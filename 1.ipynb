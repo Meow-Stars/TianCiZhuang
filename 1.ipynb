{
 "cells": [
  {
   "cell_type": "code",
   "execution_count": 16,
   "outputs": [],
   "source": [
    "def KMP(target, pattern):\n",
    "    \"\"\"查找字符串pattern在target中第一次出现的下标位置\"\"\"\n",
    "    n, m = len(target), len(pattern)            # 目标串和陌生串的长度\n",
    "    i, j = 0, 0                                 # i遍历target，j遍历pattern\n",
    "    next = get_Partial_Match_Table(pattern, m)  # 计算部分匹配表next数组\n",
    "    \n",
    "    while(i < n and j < m):                    \n",
    "        # 当字符匹配时，则i、j同时后移一位，或者j=-1的时候\n",
    "        if j==-1 or target[i] == pattern[j]:\n",
    "            i += 1\n",
    "            j += 1\n",
    "        # 当字符不匹配时，j回退到next[j]，i不动\n",
    "        else:\n",
    "            j = next[j]\n",
    "    \n",
    "    # 匹配成功，返回pattern在target中出现的下标，否则返回-1\n",
    "    if j >= m:                                  \n",
    "        index = i-m\n",
    "    else:\n",
    "        index = -1\n",
    "    return index"
   ],
   "metadata": {
    "collapsed": false,
    "ExecuteTime": {
     "end_time": "2024-10-30T14:00:39.548961Z",
     "start_time": "2024-10-30T14:00:39.543237Z"
    }
   },
   "id": "40d40a2a186b6b04"
  },
  {
   "cell_type": "code",
   "execution_count": 1,
   "outputs": [],
   "source": [
    "def get_Partial_Match_Table(pattern, m):\n",
    "    \"\"\"计算模式pattern的部分匹配表，m是模式串的长度\"\"\"\n",
    "    # next数组长度和模式串pattern长度一样，\n",
    "    # 不过netx[0]=-1代表一个不存在的值，next[1]=PMT[0]，next[m-1]=PMT[m-2]\n",
    "    next = [-1]*m                               \n",
    "    j = 0\n",
    "    for i in range(1, m):                       # next[0]固定为-1\n",
    "        sub_string = pattern[:i]                # 遍历每一个子串\n",
    "        # 分别存储sub_string的前缀和后缀\n",
    "        prefix, suffix = [], []                   \n",
    "        lens = len(sub_string)\n",
    "        for p in range(lens-1):\n",
    "            prefix.append(sub_string[:p+1])\n",
    "            suffix.append(sub_string[-(p+1):])\n",
    "        # 求前缀和后缀中的最大重叠长度\n",
    "        res = 0\n",
    "        for pre in prefix:\n",
    "            if pre in suffix and len(pre)>res:\n",
    "                res = len(pre)\n",
    "        next[i] = res\n",
    "    return next\n",
    "            "
   ],
   "metadata": {
    "collapsed": false,
    "ExecuteTime": {
     "end_time": "2024-10-30T13:49:57.555724Z",
     "start_time": "2024-10-30T13:49:57.547110Z"
    }
   },
   "id": "11492938250b97c1"
  },
  {
   "cell_type": "code",
   "execution_count": 3,
   "outputs": [
    {
     "data": {
      "text/plain": "[-1, 0, 0, 0, 1, 1, 2]"
     },
     "execution_count": 3,
     "metadata": {},
     "output_type": "execute_result"
    }
   ],
   "source": [
    "get_Partial_Match_Table(\"abbaaba\", 7)"
   ],
   "metadata": {
    "collapsed": false,
    "ExecuteTime": {
     "end_time": "2024-10-30T13:50:24.876835Z",
     "start_time": "2024-10-30T13:50:24.872638Z"
    }
   },
   "id": "acc242453279f5a9"
  },
  {
   "cell_type": "code",
   "execution_count": 18,
   "outputs": [
    {
     "data": {
      "text/plain": "-1"
     },
     "execution_count": 18,
     "metadata": {},
     "output_type": "execute_result"
    }
   ],
   "source": [
    "KMP(\"bbabbaabbaaba\", \"abbaabaa\")\n",
    "# 预期结果是6"
   ],
   "metadata": {
    "collapsed": false,
    "ExecuteTime": {
     "end_time": "2024-10-30T14:00:50.741575Z",
     "start_time": "2024-10-30T14:00:50.735130Z"
    }
   },
   "id": "ff04a8ae11abbae"
  },
  {
   "cell_type": "code",
   "execution_count": null,
   "outputs": [],
   "source": [],
   "metadata": {
    "collapsed": false
   },
   "id": "2adb037cfe0e7cf8"
  }
 ],
 "metadata": {
  "kernelspec": {
   "display_name": "Python 3",
   "language": "python",
   "name": "python3"
  },
  "language_info": {
   "codemirror_mode": {
    "name": "ipython",
    "version": 2
   },
   "file_extension": ".py",
   "mimetype": "text/x-python",
   "name": "python",
   "nbconvert_exporter": "python",
   "pygments_lexer": "ipython2",
   "version": "2.7.6"
  }
 },
 "nbformat": 4,
 "nbformat_minor": 5
}
